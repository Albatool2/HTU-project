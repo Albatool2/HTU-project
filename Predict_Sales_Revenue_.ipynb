{
  "nbformat": 4,
  "nbformat_minor": 0,
  "metadata": {
    "colab": {
      "name": "Predict Sales Revenue .ipynb",
      "provenance": [],
      "collapsed_sections": []
    },
    "kernelspec": {
      "display_name": "Python 3",
      "name": "python3"
    },
    "language_info": {
      "name": "python"
    }
  },
  "cells": [
    {
      "cell_type": "code",
      "metadata": {
        "id": "8hw8_EwzxV1x"
      },
      "source": [
        "import numpy as np\n",
        "import pandas as pd\n",
        "from matplotlib import pyplot as plt\n",
        "# This ensures plots are displayed inline \n",
        "%matplotlib inline \n",
        "import seaborn as sns\n",
        "from sklearn.preprocessing import StandardScaler\n",
        "from sklearn.preprocessing import LabelEncoder\n",
        "from sklearn.model_selection import train_test_split\n",
        "from sklearn.ensemble import RandomForestRegressor\n",
        "from sklearn.linear_model import LinearRegression\n",
        "from xgboost import XGBRegressor\n",
        "from sklearn.ensemble import GradientBoostingRegressor\n",
        "from sklearn import metrics\n",
        "from sklearn.metrics import accuracy_score\n",
        "from sklearn.metrics import mean_squared_error, r2_score\n",
        "from sklearn.model_selection import GridSearchCV\n",
        "from sklearn.model_selection import cross_val_score"
      ],
      "execution_count": 135,
      "outputs": []
    },
    {
      "cell_type": "markdown",
      "metadata": {
        "id": "v6bOmXXr54Id"
      },
      "source": [
        "\n",
        "#*Explore the Data*\n",
        "\n"
      ]
    },
    {
      "cell_type": "code",
      "metadata": {
        "colab": {
          "base_uri": "https://localhost:8080/",
          "height": 418
        },
        "id": "GqvRB4n3xuNq",
        "outputId": "90d2593b-60fb-48dc-bd1f-56a7c4983026"
      },
      "source": [
        "advert = pd.read_csv('/content/‏‏advertising.csv')\n",
        "advert"
      ],
      "execution_count": 136,
      "outputs": [
        {
          "output_type": "execute_result",
          "data": {
            "text/html": [
              "<div>\n",
              "<style scoped>\n",
              "    .dataframe tbody tr th:only-of-type {\n",
              "        vertical-align: middle;\n",
              "    }\n",
              "\n",
              "    .dataframe tbody tr th {\n",
              "        vertical-align: top;\n",
              "    }\n",
              "\n",
              "    .dataframe thead th {\n",
              "        text-align: right;\n",
              "    }\n",
              "</style>\n",
              "<table border=\"1\" class=\"dataframe\">\n",
              "  <thead>\n",
              "    <tr style=\"text-align: right;\">\n",
              "      <th></th>\n",
              "      <th>TV</th>\n",
              "      <th>Google</th>\n",
              "      <th>Facebook</th>\n",
              "      <th>Sales</th>\n",
              "    </tr>\n",
              "  </thead>\n",
              "  <tbody>\n",
              "    <tr>\n",
              "      <th>0</th>\n",
              "      <td>230.1</td>\n",
              "      <td>37.8</td>\n",
              "      <td>69.2</td>\n",
              "      <td>22100</td>\n",
              "    </tr>\n",
              "    <tr>\n",
              "      <th>1</th>\n",
              "      <td>44.5</td>\n",
              "      <td>39.3</td>\n",
              "      <td>45.1</td>\n",
              "      <td>10400</td>\n",
              "    </tr>\n",
              "    <tr>\n",
              "      <th>2</th>\n",
              "      <td>17.2</td>\n",
              "      <td>45.9</td>\n",
              "      <td>69.3</td>\n",
              "      <td>12000</td>\n",
              "    </tr>\n",
              "    <tr>\n",
              "      <th>3</th>\n",
              "      <td>151.5</td>\n",
              "      <td>41.3</td>\n",
              "      <td>58.5</td>\n",
              "      <td>16500</td>\n",
              "    </tr>\n",
              "    <tr>\n",
              "      <th>4</th>\n",
              "      <td>180.8</td>\n",
              "      <td>10.8</td>\n",
              "      <td>58.4</td>\n",
              "      <td>17900</td>\n",
              "    </tr>\n",
              "    <tr>\n",
              "      <th>...</th>\n",
              "      <td>...</td>\n",
              "      <td>...</td>\n",
              "      <td>...</td>\n",
              "      <td>...</td>\n",
              "    </tr>\n",
              "    <tr>\n",
              "      <th>195</th>\n",
              "      <td>38.2</td>\n",
              "      <td>3.7</td>\n",
              "      <td>13.8</td>\n",
              "      <td>7600</td>\n",
              "    </tr>\n",
              "    <tr>\n",
              "      <th>196</th>\n",
              "      <td>94.2</td>\n",
              "      <td>4.9</td>\n",
              "      <td>8.1</td>\n",
              "      <td>14000</td>\n",
              "    </tr>\n",
              "    <tr>\n",
              "      <th>197</th>\n",
              "      <td>177.0</td>\n",
              "      <td>9.3</td>\n",
              "      <td>6.4</td>\n",
              "      <td>14800</td>\n",
              "    </tr>\n",
              "    <tr>\n",
              "      <th>198</th>\n",
              "      <td>283.6</td>\n",
              "      <td>42.0</td>\n",
              "      <td>66.2</td>\n",
              "      <td>25500</td>\n",
              "    </tr>\n",
              "    <tr>\n",
              "      <th>199</th>\n",
              "      <td>232.1</td>\n",
              "      <td>8.6</td>\n",
              "      <td>8.7</td>\n",
              "      <td>18400</td>\n",
              "    </tr>\n",
              "  </tbody>\n",
              "</table>\n",
              "<p>200 rows × 4 columns</p>\n",
              "</div>"
            ],
            "text/plain": [
              "        TV  Google  Facebook  Sales\n",
              "0    230.1    37.8      69.2  22100\n",
              "1     44.5    39.3      45.1  10400\n",
              "2     17.2    45.9      69.3  12000\n",
              "3    151.5    41.3      58.5  16500\n",
              "4    180.8    10.8      58.4  17900\n",
              "..     ...     ...       ...    ...\n",
              "195   38.2     3.7      13.8   7600\n",
              "196   94.2     4.9       8.1  14000\n",
              "197  177.0     9.3       6.4  14800\n",
              "198  283.6    42.0      66.2  25500\n",
              "199  232.1     8.6       8.7  18400\n",
              "\n",
              "[200 rows x 4 columns]"
            ]
          },
          "metadata": {},
          "execution_count": 136
        }
      ]
    },
    {
      "cell_type": "markdown",
      "metadata": {
        "id": "61EVpIQb6nT_"
      },
      "source": [
        "**cleaning** **data**"
      ]
    },
    {
      "cell_type": "markdown",
      "metadata": {
        "id": "TyRGr-11N1FQ"
      },
      "source": [
        "Treating Missing Data"
      ]
    },
    {
      "cell_type": "code",
      "metadata": {
        "colab": {
          "base_uri": "https://localhost:8080/"
        },
        "id": "rEpQG1p3x2OP",
        "outputId": "c615cf2a-2871-4a6d-8cca-6b1207d76bb6"
      },
      "source": [
        "# printing the summary of the dataframe\n",
        "advert.info()"
      ],
      "execution_count": 137,
      "outputs": [
        {
          "output_type": "stream",
          "name": "stdout",
          "text": [
            "<class 'pandas.core.frame.DataFrame'>\n",
            "RangeIndex: 200 entries, 0 to 199\n",
            "Data columns (total 4 columns):\n",
            " #   Column    Non-Null Count  Dtype  \n",
            "---  ------    --------------  -----  \n",
            " 0   TV        200 non-null    float64\n",
            " 1   Google    200 non-null    float64\n",
            " 2   Facebook  200 non-null    float64\n",
            " 3   Sales     200 non-null    int64  \n",
            "dtypes: float64(3), int64(1)\n",
            "memory usage: 6.4 KB\n"
          ]
        }
      ]
    },
    {
      "cell_type": "code",
      "metadata": {
        "colab": {
          "base_uri": "https://localhost:8080/"
        },
        "id": "0YzNzNDm7DzC",
        "outputId": "7a987b17-9478-4a96-dbd3-14dff5888db1"
      },
      "source": [
        "# finding the count of missing values from different columns\n",
        "advert.isnull().sum()"
      ],
      "execution_count": 138,
      "outputs": [
        {
          "output_type": "execute_result",
          "data": {
            "text/plain": [
              "TV          0\n",
              "Google      0\n",
              "Facebook    0\n",
              "Sales       0\n",
              "dtype: int64"
            ]
          },
          "metadata": {},
          "execution_count": 138
        }
      ]
    },
    {
      "cell_type": "markdown",
      "metadata": {
        "id": "4nzBNJ2M-Zza"
      },
      "source": [
        "Data Analysis"
      ]
    },
    {
      "cell_type": "code",
      "metadata": {
        "colab": {
          "base_uri": "https://localhost:8080/",
          "height": 296
        },
        "id": "RCue8y9t-N2v",
        "outputId": "0ea92cd2-93ee-4b28-c057-1e4534d666a2"
      },
      "source": [
        "advert.describe()"
      ],
      "execution_count": 139,
      "outputs": [
        {
          "output_type": "execute_result",
          "data": {
            "text/html": [
              "<div>\n",
              "<style scoped>\n",
              "    .dataframe tbody tr th:only-of-type {\n",
              "        vertical-align: middle;\n",
              "    }\n",
              "\n",
              "    .dataframe tbody tr th {\n",
              "        vertical-align: top;\n",
              "    }\n",
              "\n",
              "    .dataframe thead th {\n",
              "        text-align: right;\n",
              "    }\n",
              "</style>\n",
              "<table border=\"1\" class=\"dataframe\">\n",
              "  <thead>\n",
              "    <tr style=\"text-align: right;\">\n",
              "      <th></th>\n",
              "      <th>TV</th>\n",
              "      <th>Google</th>\n",
              "      <th>Facebook</th>\n",
              "      <th>Sales</th>\n",
              "    </tr>\n",
              "  </thead>\n",
              "  <tbody>\n",
              "    <tr>\n",
              "      <th>count</th>\n",
              "      <td>200.000000</td>\n",
              "      <td>200.000000</td>\n",
              "      <td>200.000000</td>\n",
              "      <td>200.000000</td>\n",
              "    </tr>\n",
              "    <tr>\n",
              "      <th>mean</th>\n",
              "      <td>147.042500</td>\n",
              "      <td>23.264000</td>\n",
              "      <td>30.554000</td>\n",
              "      <td>15130.500000</td>\n",
              "    </tr>\n",
              "    <tr>\n",
              "      <th>std</th>\n",
              "      <td>85.854236</td>\n",
              "      <td>14.846809</td>\n",
              "      <td>21.778621</td>\n",
              "      <td>5283.892253</td>\n",
              "    </tr>\n",
              "    <tr>\n",
              "      <th>min</th>\n",
              "      <td>0.700000</td>\n",
              "      <td>0.000000</td>\n",
              "      <td>0.300000</td>\n",
              "      <td>1600.000000</td>\n",
              "    </tr>\n",
              "    <tr>\n",
              "      <th>25%</th>\n",
              "      <td>74.375000</td>\n",
              "      <td>9.975000</td>\n",
              "      <td>12.750000</td>\n",
              "      <td>11000.000000</td>\n",
              "    </tr>\n",
              "    <tr>\n",
              "      <th>50%</th>\n",
              "      <td>149.750000</td>\n",
              "      <td>22.900000</td>\n",
              "      <td>25.750000</td>\n",
              "      <td>16000.000000</td>\n",
              "    </tr>\n",
              "    <tr>\n",
              "      <th>75%</th>\n",
              "      <td>218.825000</td>\n",
              "      <td>36.525000</td>\n",
              "      <td>45.100000</td>\n",
              "      <td>19050.000000</td>\n",
              "    </tr>\n",
              "    <tr>\n",
              "      <th>max</th>\n",
              "      <td>296.400000</td>\n",
              "      <td>49.600000</td>\n",
              "      <td>114.000000</td>\n",
              "      <td>27000.000000</td>\n",
              "    </tr>\n",
              "  </tbody>\n",
              "</table>\n",
              "</div>"
            ],
            "text/plain": [
              "               TV      Google    Facebook         Sales\n",
              "count  200.000000  200.000000  200.000000    200.000000\n",
              "mean   147.042500   23.264000   30.554000  15130.500000\n",
              "std     85.854236   14.846809   21.778621   5283.892253\n",
              "min      0.700000    0.000000    0.300000   1600.000000\n",
              "25%     74.375000    9.975000   12.750000  11000.000000\n",
              "50%    149.750000   22.900000   25.750000  16000.000000\n",
              "75%    218.825000   36.525000   45.100000  19050.000000\n",
              "max    296.400000   49.600000  114.000000  27000.000000"
            ]
          },
          "metadata": {},
          "execution_count": 139
        }
      ]
    },
    {
      "cell_type": "markdown",
      "metadata": {
        "id": "ppH_GNXDMotb"
      },
      "source": [
        "#Exploratory Data Analysis"
      ]
    },
    {
      "cell_type": "markdown",
      "metadata": {
        "id": "CbLIvXng-xt2"
      },
      "source": [
        "distribution of the data in our columns"
      ]
    },
    {
      "cell_type": "code",
      "metadata": {
        "colab": {
          "base_uri": "https://localhost:8080/",
          "height": 352
        },
        "id": "au3LH58g-xAK",
        "outputId": "7bd8cbc8-f308-4bde-99cb-ede495dc515a"
      },
      "source": [
        "#TV distrbution\n",
        "plt.figure()\n",
        "sns.distplot(advert['TV'])"
      ],
      "execution_count": 140,
      "outputs": [
        {
          "output_type": "stream",
          "name": "stderr",
          "text": [
            "/usr/local/lib/python3.7/dist-packages/seaborn/distributions.py:2557: FutureWarning: `distplot` is a deprecated function and will be removed in a future version. Please adapt your code to use either `displot` (a figure-level function with similar flexibility) or `histplot` (an axes-level function for histograms).\n",
            "  warnings.warn(msg, FutureWarning)\n"
          ]
        },
        {
          "output_type": "execute_result",
          "data": {
            "text/plain": [
              "<matplotlib.axes._subplots.AxesSubplot at 0x7f5d3da0ec50>"
            ]
          },
          "metadata": {},
          "execution_count": 140
        },
        {
          "output_type": "display_data",
          "data": {
            "image/png": "[encoded data removed]",
            "text/plain": [
              "<Figure size 432x288 with 1 Axes>"
            ]
          },
          "metadata": {
            "needs_background": "light"
          }
        }
      ]
    },
    {
      "cell_type": "code",
      "metadata": {
        "colab": {
          "base_uri": "https://localhost:8080/",
          "height": 352
        },
        "id": "_4uDChrvAqqo",
        "outputId": "d6ef92b3-8d7b-4fc7-eed8-400ac53f04f4"
      },
      "source": [
        "#google distrbution\n",
        "plt.figure()\n",
        "sns.distplot(advert['Google'])"
      ],
      "execution_count": 141,
      "outputs": [
        {
          "output_type": "stream",
          "name": "stderr",
          "text": [
            "/usr/local/lib/python3.7/dist-packages/seaborn/distributions.py:2557: FutureWarning: `distplot` is a deprecated function and will be removed in a future version. Please adapt your code to use either `displot` (a figure-level function with similar flexibility) or `histplot` (an axes-level function for histograms).\n",
            "  warnings.warn(msg, FutureWarning)\n"
          ]
        },
        {
          "output_type": "execute_result",
          "data": {
            "text/plain": [
              "<matplotlib.axes._subplots.AxesSubplot at 0x7f5d3d988810>"
            ]
          },
          "metadata": {},
          "execution_count": 141
        },
        {
          "output_type": "display_data",
          "data": {
            "image/png": "[encoded data removed]",
            "text/plain": [
              "<Figure size 432x288 with 1 Axes>"
            ]
          },
          "metadata": {
            "needs_background": "light"
          }
        }
      ]
    },
    {
      "cell_type": "code",
      "metadata": {
        "colab": {
          "base_uri": "https://localhost:8080/",
          "height": 352
        },
        "id": "4mpR7_A6A0FP",
        "outputId": "1408ed92-df1f-434d-c643-1e81956b2638"
      },
      "source": [
        "#Facebook distrbution\n",
        "plt.figure()\n",
        "sns.distplot(advert['Facebook'])"
      ],
      "execution_count": 142,
      "outputs": [
        {
          "output_type": "stream",
          "name": "stderr",
          "text": [
            "/usr/local/lib/python3.7/dist-packages/seaborn/distributions.py:2557: FutureWarning: `distplot` is a deprecated function and will be removed in a future version. Please adapt your code to use either `displot` (a figure-level function with similar flexibility) or `histplot` (an axes-level function for histograms).\n",
            "  warnings.warn(msg, FutureWarning)\n"
          ]
        },
        {
          "output_type": "execute_result",
          "data": {
            "text/plain": [
              "<matplotlib.axes._subplots.AxesSubplot at 0x7f5d3d985710>"
            ]
          },
          "metadata": {},
          "execution_count": 142
        },
        {
          "output_type": "display_data",
          "data": {
            "image/png": "[encoded data removed]",
            "text/plain": [
              "<Figure size 432x288 with 1 Axes>"
            ]
          },
          "metadata": {
            "needs_background": "light"
          }
        }
      ]
    },
    {
      "cell_type": "code",
      "metadata": {
        "colab": {
          "base_uri": "https://localhost:8080/",
          "height": 363
        },
        "id": "dNhRKuWJBNAO",
        "outputId": "1d726eaa-6fa2-42eb-c881-1bcb0a2d8ae8"
      },
      "source": [
        "#sales distrbution\n",
        "plt.figure()\n",
        "sns.distplot(advert['Sales'])"
      ],
      "execution_count": 143,
      "outputs": [
        {
          "output_type": "stream",
          "name": "stderr",
          "text": [
            "/usr/local/lib/python3.7/dist-packages/seaborn/distributions.py:2557: FutureWarning: `distplot` is a deprecated function and will be removed in a future version. Please adapt your code to use either `displot` (a figure-level function with similar flexibility) or `histplot` (an axes-level function for histograms).\n",
            "  warnings.warn(msg, FutureWarning)\n"
          ]
        },
        {
          "output_type": "execute_result",
          "data": {
            "text/plain": [
              "<matplotlib.axes._subplots.AxesSubplot at 0x7f5d3db0f510>"
            ]
          },
          "metadata": {},
          "execution_count": 143
        },
        {
          "output_type": "display_data",
          "data": {
            "image/png": "[encoded data removed]",
            "text/plain": [
              "<Figure size 432x288 with 1 Axes>"
            ]
          },
          "metadata": {
            "needs_background": "light"
          }
        }
      ]
    },
    {
      "cell_type": "markdown",
      "metadata": {
        "id": "4vrqmb0KXK22"
      },
      "source": [
        "#relationships between the features and the sales"
      ]
    },
    {
      "cell_type": "code",
      "metadata": {
        "colab": {
          "base_uri": "https://localhost:8080/",
          "height": 532
        },
        "id": "omWNinjJym9H",
        "outputId": "cf13dcc4-647c-45df-8c84-79b2ab0d9c00"
      },
      "source": [
        "sns.pairplot(advert, x_vars=['TV', 'Facebook', 'Google'], y_vars='Sales', height=7, \n",
        "            aspect=0.7, kind='reg')"
      ],
      "execution_count": 144,
      "outputs": [
        {
          "output_type": "execute_result",
          "data": {
            "text/plain": [
              "<seaborn.axisgrid.PairGrid at 0x7f5d3d9ae690>"
            ]
          },
          "metadata": {},
          "execution_count": 144
        },
        {
          "output_type": "display_data",
          "data": {
            "image/png": "[encoded data removed]",
            "text/plain": [
              "<Figure size 1058.4x504 with 3 Axes>"
            ]
          },
          "metadata": {
            "needs_background": "light"
          }
        }
      ]
    },
    {
      "cell_type": "code",
      "metadata": {
        "colab": {
          "base_uri": "https://localhost:8080/"
        },
        "id": "bmlXBUMPysVc",
        "outputId": "99ca2a0c-3c60-4cfe-d5ab-909d847f8d93"
      },
      "source": [
        "# Correlation value between TV and Sales\n",
        "advert.TV.corr(advert.Sales)"
      ],
      "execution_count": 145,
      "outputs": [
        {
          "output_type": "execute_result",
          "data": {
            "text/plain": [
              "0.9012079133023313"
            ]
          },
          "metadata": {},
          "execution_count": 145
        }
      ]
    },
    {
      "cell_type": "code",
      "metadata": {
        "colab": {
          "base_uri": "https://localhost:8080/"
        },
        "id": "sNN6cmxYyv3h",
        "outputId": "97fae998-2686-4a73-8349-3ff224a325eb"
      },
      "source": [
        "# Correlation value between Facebook and Sales\n",
        "advert.Facebook.corr(advert.Sales)"
      ],
      "execution_count": 146,
      "outputs": [
        {
          "output_type": "execute_result",
          "data": {
            "text/plain": [
              "0.15796002615492624"
            ]
          },
          "metadata": {},
          "execution_count": 146
        }
      ]
    },
    {
      "cell_type": "code",
      "metadata": {
        "colab": {
          "base_uri": "https://localhost:8080/"
        },
        "id": "lGtfHrW8y02g",
        "outputId": "e9e82ec3-b01c-4e4b-80e2-b2b757fbaa04"
      },
      "source": [
        "\n",
        "# Correlation value between Googl and Sales\n",
        "advert.Google.corr(advert.Sales)"
      ],
      "execution_count": 147,
      "outputs": [
        {
          "output_type": "execute_result",
          "data": {
            "text/plain": [
              "0.3496310970076691"
            ]
          },
          "metadata": {},
          "execution_count": 147
        }
      ]
    },
    {
      "cell_type": "code",
      "metadata": {
        "colab": {
          "base_uri": "https://localhost:8080/",
          "height": 172
        },
        "id": "BO4bJdawy9S1",
        "outputId": "64f9b1c9-fe7c-4e1d-c838-98d124632b04"
      },
      "source": [
        "advert.corr()"
      ],
      "execution_count": 148,
      "outputs": [
        {
          "output_type": "execute_result",
          "data": {
            "text/html": [
              "<div>\n",
              "<style scoped>\n",
              "    .dataframe tbody tr th:only-of-type {\n",
              "        vertical-align: middle;\n",
              "    }\n",
              "\n",
              "    .dataframe tbody tr th {\n",
              "        vertical-align: top;\n",
              "    }\n",
              "\n",
              "    .dataframe thead th {\n",
              "        text-align: right;\n",
              "    }\n",
              "</style>\n",
              "<table border=\"1\" class=\"dataframe\">\n",
              "  <thead>\n",
              "    <tr style=\"text-align: right;\">\n",
              "      <th></th>\n",
              "      <th>TV</th>\n",
              "      <th>Google</th>\n",
              "      <th>Facebook</th>\n",
              "      <th>Sales</th>\n",
              "    </tr>\n",
              "  </thead>\n",
              "  <tbody>\n",
              "    <tr>\n",
              "      <th>TV</th>\n",
              "      <td>1.000000</td>\n",
              "      <td>0.054809</td>\n",
              "      <td>0.056648</td>\n",
              "      <td>0.901208</td>\n",
              "    </tr>\n",
              "    <tr>\n",
              "      <th>Google</th>\n",
              "      <td>0.054809</td>\n",
              "      <td>1.000000</td>\n",
              "      <td>0.354104</td>\n",
              "      <td>0.349631</td>\n",
              "    </tr>\n",
              "    <tr>\n",
              "      <th>Facebook</th>\n",
              "      <td>0.056648</td>\n",
              "      <td>0.354104</td>\n",
              "      <td>1.000000</td>\n",
              "      <td>0.157960</td>\n",
              "    </tr>\n",
              "    <tr>\n",
              "      <th>Sales</th>\n",
              "      <td>0.901208</td>\n",
              "      <td>0.349631</td>\n",
              "      <td>0.157960</td>\n",
              "      <td>1.000000</td>\n",
              "    </tr>\n",
              "  </tbody>\n",
              "</table>\n",
              "</div>"
            ],
            "text/plain": [
              "                TV    Google  Facebook     Sales\n",
              "TV        1.000000  0.054809  0.056648  0.901208\n",
              "Google    0.054809  1.000000  0.354104  0.349631\n",
              "Facebook  0.056648  0.354104  1.000000  0.157960\n",
              "Sales     0.901208  0.349631  0.157960  1.000000"
            ]
          },
          "metadata": {},
          "execution_count": 148
        }
      ]
    },
    {
      "cell_type": "markdown",
      "metadata": {
        "id": "wOXvFBaAZaFF"
      },
      "source": [
        "#Train a Regression Model"
      ]
    },
    {
      "cell_type": "markdown",
      "metadata": {
        "id": "95dozZ1okkHW"
      },
      "source": [
        "Splitting X and Y and splitting training,testing sets"
      ]
    },
    {
      "cell_type": "code",
      "metadata": {
        "id": "xh32ArTYivLL"
      },
      "source": [
        "X=advert.iloc[:,:-1].values\n",
        "Y=advert.iloc[:,-1].values\n"
      ],
      "execution_count": 149,
      "outputs": []
    },
    {
      "cell_type": "code",
      "metadata": {
        "colab": {
          "base_uri": "https://localhost:8080/"
        },
        "id": "Uxwm55jgkglI",
        "outputId": "23156d0e-f900-464a-cfc0-cee1c303c532"
      },
      "source": [
        "X_train, X_test, Y_train,Y_test = train_test_split(X, Y, test_size = 0.2)\n",
        "print ('Training Set: %d rows\\nTest Set: %d rows' % (X_train.shape[0], X_test.shape[0]))"
      ],
      "execution_count": 150,
      "outputs": [
        {
          "output_type": "stream",
          "name": "stdout",
          "text": [
            "Training Set: 160 rows\n",
            "Test Set: 40 rows\n"
          ]
        }
      ]
    },
    {
      "cell_type": "markdown",
      "metadata": {
        "id": "EcyNx8GfnDCU"
      },
      "source": [
        "**Scaling Features**"
      ]
    },
    {
      "cell_type": "code",
      "metadata": {
        "id": "K_wcG8G6nOo0"
      },
      "source": [
        "# Normalize the data using sklearn StandardScaler\n",
        "sc = StandardScaler()\n",
        "X_train = sc.fit_transform(X_train)\n",
        "X_test = sc.transform(X_test)\n"
      ],
      "execution_count": 151,
      "outputs": []
    },
    {
      "cell_type": "markdown",
      "metadata": {
        "id": "SXzwrFbiJ06p"
      },
      "source": [
        "Machine learning Model training"
      ]
    },
    {
      "cell_type": "markdown",
      "metadata": {
        "id": "0D4jwAeMJ2dm"
      },
      "source": [
        "XGBoost Regressor"
      ]
    },
    {
      "cell_type": "code",
      "metadata": {
        "colab": {
          "base_uri": "https://localhost:8080/"
        },
        "id": "UAJw9cSXJ0cb",
        "outputId": "e61804d6-fdc1-407f-cffe-e8cd6cd96bce"
      },
      "source": [
        "# Fit a XGBRegressor model on the training set\n",
        "model1=XGBRegressor()\n",
        "model1.fit(X_train,Y_train)"
      ],
      "execution_count": 168,
      "outputs": [
        {
          "output_type": "stream",
          "name": "stdout",
          "text": [
            "[20:25:40] WARNING: /workspace/src/objective/regression_obj.cu:152: reg:linear is now deprecated in favor of reg:squarederror.\n"
          ]
        },
        {
          "output_type": "execute_result",
          "data": {
            "text/plain": [
              "XGBRegressor(base_score=0.5, booster='gbtree', colsample_bylevel=1,\n",
              "             colsample_bynode=1, colsample_bytree=1, gamma=0,\n",
              "             importance_type='gain', learning_rate=0.1, max_delta_step=0,\n",
              "             max_depth=3, min_child_weight=1, missing=None, n_estimators=100,\n",
              "             n_jobs=1, nthread=None, objective='reg:linear', random_state=0,\n",
              "             reg_alpha=0, reg_lambda=1, scale_pos_weight=1, seed=None,\n",
              "             silent=None, subsample=1, verbosity=1)"
            ]
          },
          "metadata": {},
          "execution_count": 168
        }
      ]
    },
    {
      "cell_type": "code",
      "metadata": {
        "colab": {
          "base_uri": "https://localhost:8080/"
        },
        "id": "sTHQLWta_-Zj",
        "outputId": "2455ab4f-9089-4889-9052-ba352faf2ec2"
      },
      "source": [
        "predictions_model1 = model1.predict(X_test)\n",
        "np.set_printoptions(suppress=True)\n",
        "print('Predicted labels: ', np.round(predictions_model1))\n",
        "print('Actual labels   : ' ,Y_test)"
      ],
      "execution_count": 153,
      "outputs": [
        {
          "output_type": "stream",
          "name": "stdout",
          "text": [
            "Predicted labels:  [22068. 19873. 15336. 12949. 17925. 18773. 25322. 16579. 15825. 19158.\n",
            " 20612. 19831.  5831. 16975. 12243. 20029. 13413.  7373. 18551. 19303.\n",
            " 18817. 18980.  7229. 11682. 17080. 18598.  8522. 15166. 19121. 22670.\n",
            " 11942. 23364. 22980. 11465.  9527. 12122. 18825. 17022. 22566. 18776.]\n",
            "Actual labels   :  [22600 20200 16700 12600 16600 17800 25400 17500 15000 18900 21400 20700\n",
            "  6600 17200 13700 17400 14200  7600 20900 20500 19700 19800  5900 12400\n",
            " 16500 20200  7600 17200 20700 20700 10600 22400 22200 10400 12600 10600\n",
            " 18400 17200 23800 18200]\n"
          ]
        }
      ]
    },
    {
      "cell_type": "code",
      "metadata": {
        "colab": {
          "base_uri": "https://localhost:8080/"
        },
        "id": "8HHDy5rSOvly",
        "outputId": "23d21795-a39d-4cf7-8b0a-e1ab4fcc4593"
      },
      "source": [
        "#prediction on testing data\n",
        "prediction_model1=model1.predict(X_test)\n",
        "#R squared value\n",
        "r2_test=metrics.r2_score(Y_test,prediction_model1)\n",
        "print('R2 score using XGBRegressor = ',r2_score(Y_test,predictions_model1), '/ 1.0')\n",
        "mse = mean_squared_error(Y_test, prediction_model1)\n",
        "print('MSE score using XGBRegressor= ',mean_squared_error(Y_test, predictions_model1), '/ 0.0')"
      ],
      "execution_count": 154,
      "outputs": [
        {
          "output_type": "stream",
          "name": "stdout",
          "text": [
            "R2 score using XGBRegressor =  0.93514408415113 / 1.0\n",
            "MSE score using XGBRegressor=  1541156.535735631 / 0.0\n"
          ]
        }
      ]
    },
    {
      "cell_type": "code",
      "metadata": {
        "colab": {
          "base_uri": "https://localhost:8080/",
          "height": 295
        },
        "id": "4SObAA3Qf1CV",
        "outputId": "a41cf8e9-5900-472f-da38-6f1c5b38179b"
      },
      "source": [
        "plt.scatter(Y_test, predictions_model1)\n",
        "plt.xlabel('Actual Labels')\n",
        "plt.ylabel('Predicted Labels')\n",
        "plt.title('XGBoost Predictions')\n",
        "# overlay the regression line\n",
        "z = np.polyfit(Y_test, predictions_model1, 1)\n",
        "p = np.poly1d(z)\n",
        "plt.plot(Y_test,p(Y_test), color='magenta')\n",
        "plt.show()"
      ],
      "execution_count": 155,
      "outputs": [
        {
          "output_type": "display_data",
          "data": {
            "image/png": "[encoded data removed]",
            "text/plain": [
              "<Figure size 432x288 with 1 Axes>"
            ]
          },
          "metadata": {
            "needs_background": "light"
          }
        }
      ]
    },
    {
      "cell_type": "code",
      "metadata": {
        "colab": {
          "base_uri": "https://localhost:8080/"
        },
        "id": "Ju4Np0o-eOwD",
        "outputId": "c49bf36a-2999-4d3a-971a-a24177770f16"
      },
      "source": [
        "cv_results_model1 =  XGBRegressor()\n",
        "scores = cross_val_score(estimator =cv_results_model1, X = X_train, y= Y_train, cv = 5)\n",
        "print(f'The average accuracy of XGBRegressor Regressor is {round(100*scores.mean(),1)}% with a standard variation of {round(100*scores.std(),2)}%')"
      ],
      "execution_count": 156,
      "outputs": [
        {
          "output_type": "stream",
          "name": "stdout",
          "text": [
            "[20:24:22] WARNING: /workspace/src/objective/regression_obj.cu:152: reg:linear is now deprecated in favor of reg:squarederror.\n",
            "[20:24:22] WARNING: /workspace/src/objective/regression_obj.cu:152: reg:linear is now deprecated in favor of reg:squarederror.\n",
            "[20:24:22] WARNING: /workspace/src/objective/regression_obj.cu:152: reg:linear is now deprecated in favor of reg:squarederror.\n",
            "[20:24:22] WARNING: /workspace/src/objective/regression_obj.cu:152: reg:linear is now deprecated in favor of reg:squarederror.\n",
            "[20:24:22] WARNING: /workspace/src/objective/regression_obj.cu:152: reg:linear is now deprecated in favor of reg:squarederror.\n",
            "The average accuracy of XGBRegressor Regressor is 93.5% with a standard variation of 2.29%\n"
          ]
        }
      ]
    },
    {
      "cell_type": "markdown",
      "metadata": {
        "id": "Hck9Xn1IvARF"
      },
      "source": [
        "Random Forest Regressor"
      ]
    },
    {
      "cell_type": "code",
      "metadata": {
        "colab": {
          "base_uri": "https://localhost:8080/"
        },
        "id": "rFQbbTRQdK78",
        "outputId": "a8898fea-880e-4fb3-f737-6180f2298f8a"
      },
      "source": [
        "# Train the model\n",
        "model2 = RandomForestRegressor()\n",
        "model2.fit(X_train, Y_train)\n",
        "\n",
        "\n",
        "# Evaluate the model using the test data\n",
        "predictions_model2 = model2.predict(X_test)\n",
        "mse = mean_squared_error(Y_test, predictions_model2)\n",
        "print('MSE score using RandomForestRegressor = ',mean_squared_error(Y_test, predictions_model2), '/ 0.0')\n",
        "r2 = r2_score(Y_test, predictions_model2)\n",
        "print('R2 score using RandomForestRegressor = ',r2_score(Y_test,predictions_model2), '/ 1.0')\n",
        "\n"
      ],
      "execution_count": 158,
      "outputs": [
        {
          "output_type": "stream",
          "name": "stdout",
          "text": [
            "MSE score using RandomForestRegressor =  1172530.575 / 0.0\n",
            "R2 score using RandomForestRegressor =  0.950656833008771 / 1.0\n"
          ]
        }
      ]
    },
    {
      "cell_type": "code",
      "metadata": {
        "colab": {
          "base_uri": "https://localhost:8080/",
          "height": 295
        },
        "id": "iOfr4pRshb78",
        "outputId": "10c844d6-beda-404e-ae2c-0cc762737b46"
      },
      "source": [
        "# Plot predicted vs actual\n",
        "plt.scatter(Y_test, predictions_model2)\n",
        "plt.xlabel('Actual Labels')\n",
        "plt.ylabel('Predicted Labels')\n",
        "plt.title('RandomForestRegressor Predictions')\n",
        "# overlay the regression line\n",
        "z = np.polyfit(Y_test, predictions_model2, 1)\n",
        "p = np.poly1d(z)\n",
        "plt.plot(Y_test,p(Y_test), color='magenta')\n",
        "plt.show()"
      ],
      "execution_count": 159,
      "outputs": [
        {
          "output_type": "display_data",
          "data": {
            "image/png": "[encoded data removed]",
            "text/plain": [
              "<Figure size 432x288 with 1 Axes>"
            ]
          },
          "metadata": {
            "needs_background": "light"
          }
        }
      ]
    },
    {
      "cell_type": "code",
      "metadata": {
        "colab": {
          "base_uri": "https://localhost:8080/"
        },
        "id": "cMrwBd3VdbqZ",
        "outputId": "a549b91e-dc28-4329-8cf2-6b82ca6c79c3"
      },
      "source": [
        "cv_results_model2 =  RandomForestRegressor()\n",
        "scores = cross_val_score(estimator =cv_results_model2, X = X_train, y= Y_train, cv = 5)\n",
        "print(f'The average accuracy of Random Forest Regressor is {round(100*scores.mean(),1)}% with a standard variation of {round(100*scores.std(),2)}%')"
      ],
      "execution_count": 160,
      "outputs": [
        {
          "output_type": "stream",
          "name": "stdout",
          "text": [
            "The average accuracy of Random Forest Regressor is 93.3% with a standard variation of 2.62%\n"
          ]
        }
      ]
    },
    {
      "cell_type": "markdown",
      "metadata": {
        "id": "miMXxnyNiksd"
      },
      "source": [
        "Gradient Boosting estimator"
      ]
    },
    {
      "cell_type": "code",
      "metadata": {
        "colab": {
          "base_uri": "https://localhost:8080/"
        },
        "id": "t3ShEla2ijoO",
        "outputId": "a54b7ffe-4314-4534-8b6b-d064de56f964"
      },
      "source": [
        "\n",
        "\n",
        "# Fit a lasso model on the training set\n",
        "model3 = GradientBoostingRegressor()\n",
        "model3.fit(X_train, Y_train)\n",
        "\n",
        "# Evaluate the model using the test data\n",
        "predictions_model3 = model3.predict(X_test)\n",
        "mse = mean_squared_error(Y_test, predictions_model3)\n",
        "print('MSE score using GradientBoostingRegressor = ',mean_squared_error(Y_test, predictions_model3), '/ 0.0')\n",
        "r2 = r2_score(Y_test, predictions_model3)\n",
        "print('R2 score using GradientBoostingRegressor = ',r2_score(Y_test,predictions_model3), '/ 1.0')\n",
        "\n"
      ],
      "execution_count": 161,
      "outputs": [
        {
          "output_type": "stream",
          "name": "stdout",
          "text": [
            "MSE score using GradientBoostingRegressor =  1372365.0402018845 / 0.0\n",
            "R2 score using GradientBoostingRegressor =  0.9422472737211085 / 1.0\n"
          ]
        }
      ]
    },
    {
      "cell_type": "code",
      "metadata": {
        "colab": {
          "base_uri": "https://localhost:8080/",
          "height": 295
        },
        "id": "iNoJhGYRm1cl",
        "outputId": "5071e24e-bd5e-4c28-84cb-14335dc79942"
      },
      "source": [
        "# Plot predicted vs actual\n",
        "plt.scatter(Y_test, predictions_model3)\n",
        "plt.xlabel('Actual Labels')\n",
        "plt.ylabel('Predicted Labels')\n",
        "plt.title('GradientBoostingRegressor Predictions')\n",
        "# overlay the regression line\n",
        "z = np.polyfit(Y_test, predictions_model3, 1)\n",
        "p = np.poly1d(z)\n",
        "plt.plot(Y_test,p(Y_test), color='magenta')\n",
        "plt.show()"
      ],
      "execution_count": 162,
      "outputs": [
        {
          "output_type": "display_data",
          "data": {
            "image/png": "[encoded data removed]",
            "text/plain": [
              "<Figure size 432x288 with 1 Axes>"
            ]
          },
          "metadata": {
            "needs_background": "light"
          }
        }
      ]
    },
    {
      "cell_type": "code",
      "metadata": {
        "colab": {
          "base_uri": "https://localhost:8080/"
        },
        "id": "HQtejRRzbzxy",
        "outputId": "eb271cb7-0718-4f59-892a-429668a23fe4"
      },
      "source": [
        "#Using cross validation of score 5\n",
        "cv_results_model3 = GradientBoostingRegressor()\n",
        "scores = cross_val_score(estimator =cv_results_model3, X = X_train, y= Y_train, cv = 5)\n",
        "print(f'The average accuracy of GradientBoostingRegressor is {round(100*scores.mean(),1)}% with a standard variation of {round(100*scores.std(),2)}%')"
      ],
      "execution_count": 163,
      "outputs": [
        {
          "output_type": "stream",
          "name": "stdout",
          "text": [
            "The average accuracy of GradientBoostingRegressor is 93.5% with a standard variation of 2.12%\n"
          ]
        }
      ]
    },
    {
      "cell_type": "markdown",
      "metadata": {
        "id": "mJRyZsaFSSbk"
      },
      "source": [
        "LinearRegression"
      ]
    },
    {
      "cell_type": "code",
      "metadata": {
        "colab": {
          "base_uri": "https://localhost:8080/"
        },
        "id": "YvZnNxM_zcLk",
        "outputId": "363eb340-7a66-41b3-fc3b-c56272edcf57"
      },
      "source": [
        "# Creating the model\n",
        "\n",
        "model4 =LinearRegression()\n",
        "model4.fit(X_train,Y_train)\n",
        "\n",
        "# Evaluate the model using the test data\n",
        "predictions_model4 = model4.predict(X_test)\n",
        "\n",
        "mse = mean_squared_error(Y_test, predictions_model4)\n",
        "print('MSE score using LinearRegression = ',mean_squared_error(Y_test, predictions_model4), '/ 0.0')\n",
        "r2 = r2_score(Y_test, predictions_model4)\n",
        "print('R2 score using LinearRegression = ',r2_score(Y_test,predictions_model4), '/ 1.0')\n"
      ],
      "execution_count": 164,
      "outputs": [
        {
          "output_type": "stream",
          "name": "stdout",
          "text": [
            "MSE score using LinearRegression =  3207806.1567181665 / 0.0\n",
            "R2 score using LinearRegression =  0.8650070895878883 / 1.0\n"
          ]
        }
      ]
    },
    {
      "cell_type": "code",
      "metadata": {
        "colab": {
          "base_uri": "https://localhost:8080/",
          "height": 295
        },
        "id": "pvJ3XMrYzo80",
        "outputId": "0d304714-cc2a-436a-d64e-2208ba1eb3a9"
      },
      "source": [
        "# Plot predicted vs actual\n",
        "plt.scatter(Y_test, predictions_model4)\n",
        "plt.xlabel('Actual Labels')\n",
        "plt.ylabel('Predicted Labels')\n",
        "plt.title('LinearRegression Predictions')\n",
        "# overlay the regression line\n",
        "z = np.polyfit(Y_test, predictions_model4, 1)\n",
        "p = np.poly1d(z)\n",
        "plt.plot(Y_test,p(Y_test), color='magenta')\n",
        "plt.show()\n"
      ],
      "execution_count": 165,
      "outputs": [
        {
          "output_type": "display_data",
          "data": {
            "image/png": "[encoded data removed]",
            "text/plain": [
              "<Figure size 432x288 with 1 Axes>"
            ]
          },
          "metadata": {
            "needs_background": "light"
          }
        }
      ]
    },
    {
      "cell_type": "code",
      "metadata": {
        "colab": {
          "base_uri": "https://localhost:8080/"
        },
        "id": "x0qPIiO7fiaf",
        "outputId": "888d33e4-6556-4f21-8314-5cd5b6e2be8a"
      },
      "source": [
        "#Using cross validation of score 5\n",
        "cv_results_model4 =LinearRegression()\n",
        "scores = cross_val_score(estimator =cv_results_model4, X = X_train, y= Y_train, cv = 5)\n",
        "print(f'The average accuracy of LinearRegression is {round(100*scores.mean(),1)}% with a standard variation of {round(100*scores.std(),2)}%')"
      ],
      "execution_count": 166,
      "outputs": [
        {
          "output_type": "stream",
          "name": "stdout",
          "text": [
            "The average accuracy of LinearRegression is 89.9% with a standard variation of 3.7%\n"
          ]
        }
      ]
    }
  ]
}